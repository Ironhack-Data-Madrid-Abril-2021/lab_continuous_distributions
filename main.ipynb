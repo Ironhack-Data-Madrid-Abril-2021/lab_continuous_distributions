{
  "nbformat": 4,
  "nbformat_minor": 0,
  "metadata": {
    "kernelspec": {
      "display_name": "Python 3",
      "language": "python",
      "name": "python3"
    },
    "language_info": {
      "codemirror_mode": {
        "name": "ipython",
        "version": 3
      },
      "file_extension": ".py",
      "mimetype": "text/x-python",
      "name": "python",
      "nbconvert_exporter": "python",
      "pygments_lexer": "ipython3",
      "version": "3.7.3"
    },
    "colab": {
      "name": "main.ipynb",
      "provenance": [],
      "collapsed_sections": [],
      "include_colab_link": true
    }
  },
  "cells": [
    {
      "cell_type": "markdown",
      "metadata": {
        "id": "view-in-github",
        "colab_type": "text"
      },
      "source": [
        "<a href=\"https://colab.research.google.com/github/juanmanuelvillacis/lab_continuous_distributions/blob/master/main.ipynb\" target=\"_parent\"><img src=\"https://colab.research.google.com/assets/colab-badge.svg\" alt=\"Open In Colab\"/></a>"
      ]
    },
    {
      "cell_type": "markdown",
      "metadata": {
        "id": "npiXmktfJKL1"
      },
      "source": [
        "# Before your start:\n",
        "\n",
        "    Read the README.md file\n",
        "    Comment as much as you can and use the resources (README.md file)\n",
        "    Happy learning!"
      ]
    },
    {
      "cell_type": "markdown",
      "metadata": {
        "id": "KKb0hnEsJKMB"
      },
      "source": [
        "In this exercise, we  will generate random numbers from the continuous disributions we learned in the lesson. There are two ways to generate random numbers:\n",
        "\n",
        "1. Using the numpy library \n",
        "1. using the Scipy library \n",
        "\n",
        "Use either or both of the lbraries in this exercise."
      ]
    },
    {
      "cell_type": "markdown",
      "metadata": {
        "id": "BRRzXKqPJKMD"
      },
      "source": [
        "## Uniform Distribution\n",
        "\n",
        "To generate uniform random numbers between any two given values using scipy, we can either use the following code or the code that we have\n",
        "discussed in class:"
      ]
    },
    {
      "cell_type": "code",
      "metadata": {
        "colab": {
          "base_uri": "https://localhost:8080/"
        },
        "id": "Ct3dywB5JKME",
        "outputId": "5c38650d-f9e3-4c33-a237-1c241a9da48a"
      },
      "source": [
        "from scipy.stats import uniform\n",
        "import pandas as pd\n",
        "x = uniform.rvs(size=10)\n",
        "a = 2\n",
        "b = 3\n",
        "randoms  = a + (b-a)*x\n",
        "print(randoms)"
      ],
      "execution_count": 6,
      "outputs": [
        {
          "output_type": "stream",
          "name": "stdout",
          "text": [
            "[2.25682305 2.08269453 2.32798717 2.43494261 2.39648179 2.19809705\n",
            " 2.5526943  2.66133844 2.89465206 2.24921843]\n"
          ]
        }
      ]
    },
    {
      "cell_type": "markdown",
      "metadata": {
        "id": "To32DNY2JKMH"
      },
      "source": [
        "**Your task:**\n",
        "\n",
        "1. Based on the code above, write a function that generates uniformly distributed random numbers. There are several requirements for your function:\n",
        "    * It should accept 3 parameters: \n",
        "        * `bottom` - the lower boundary of the generated numbers\n",
        "        * `ceiling` - the upper boundary of the generated numbers\n",
        "        * `count` - how many numbers to generate\n",
        "    * It should return an array of uniformly distributed random numbers\n",
        "\n",
        "1. Call your function with 2 sets of params below:\n",
        "    * bottom=10, ceiling=15, count=100\n",
        "    * bottom=10, ceiling=60, count=1,000\n",
        "\n",
        "1. Plot the uniform distributions generated above using histograms, where x axis is the value and y axis is the count. Let the histogram's number of bins be 10.\n",
        "\n",
        "Your output should look like below:\n",
        "\n",
        "![uniform distribution](ud.png)"
      ]
    },
    {
      "cell_type": "code",
      "metadata": {
        "id": "2A1DXTyKyja3"
      },
      "source": [
        "import seaborn as sns\n",
        "import matplotlib.pyplot as plt"
      ],
      "execution_count": 7,
      "outputs": []
    },
    {
      "cell_type": "code",
      "metadata": {
        "id": "wCj0lC-vJKMJ"
      },
      "source": [
        "# your code here\n",
        "def rand_funct(bott,ceil,count):\n",
        "  x = uniform.rvs(size=count)\n",
        "  \n",
        "  randoms  = bott-1 + (ceil-a)*x\n",
        "  \n",
        "  return randoms\n",
        "  \n",
        "\n",
        "\n",
        "y = rand_funct(10,15,100)\n",
        "z = rand_funct(10,60,1000)"
      ],
      "execution_count": 8,
      "outputs": []
    },
    {
      "cell_type": "code",
      "metadata": {
        "colab": {
          "base_uri": "https://localhost:8080/",
          "height": 320
        },
        "id": "Z0ju1iUXyPzy",
        "outputId": "4517a0e7-9f78-4745-9a8e-03161f3cd2e6"
      },
      "source": [
        "fig ,[ax1,ax2] = plt.subplots(1,2, figsize=(10,5))\n",
        "sns.histplot(rand_funct(10,15,100),bins=10,ax=ax1)\n",
        "sns.histplot(rand_funct(10,60,1000),bins=10,ax=ax2)\n",
        "plt.show()"
      ],
      "execution_count": 9,
      "outputs": [
        {
          "output_type": "display_data",
          "data": {
            "image/png": "[encoded data removed]",
            "text/plain": [
              "<Figure size 720x360 with 2 Axes>"
            ]
          },
          "metadata": {
            "needs_background": "light"
          }
        }
      ]
    },
    {
      "cell_type": "markdown",
      "metadata": {
        "id": "1KvlA_TdJKML"
      },
      "source": [
        "How are the two distributions different?"
      ]
    },
    {
      "cell_type": "code",
      "metadata": {
        "id": "Jzccs-rZJKMN",
        "colab": {
          "base_uri": "https://localhost:8080/",
          "height": 35
        },
        "outputId": "b5a7b2ba-0079-4c41-ecad-b628c6c6f203"
      },
      "source": [
        "# your answert\n",
        "'''The main difference is that the second plot have a lot more numbers for each bin than the\n",
        "first one because of the sample size of each array (100 vs 1000)'''"
      ],
      "execution_count": 11,
      "outputs": [
        {
          "output_type": "execute_result",
          "data": {
            "application/vnd.google.colaboratory.intrinsic+json": {
              "type": "string"
            },
            "text/plain": [
              "'The main difference is that the second plot have a lot more numbers for each bin than the\\nfirst one because of the sample size of each array (100 vs 1000)'"
            ]
          },
          "metadata": {},
          "execution_count": 11
        }
      ]
    },
    {
      "cell_type": "markdown",
      "metadata": {
        "id": "LB7aYKEJJKMP"
      },
      "source": [
        "## Normal Distribution\n",
        "\n",
        "1. In the same way in the Uniform Distribution challenge, write a function that generates normally distributed random numbers.\n",
        "1. Generate 1,000 normally distributed numbers with the average of 10 and standard deviation of 1\n",
        "1. Generate 1,000 normally distributed numbers with the average of 10 and standard deviation of 50\n",
        "2. Plot the distributions of the data generated.\n",
        "\n",
        "Expected output:\n",
        "\n",
        "![normal distribution](nd.png)"
      ]
    },
    {
      "cell_type": "code",
      "metadata": {
        "id": "LviA4YJGJKMU"
      },
      "source": [
        "# your code here\n",
        "from scipy.stats import norm"
      ],
      "execution_count": 12,
      "outputs": []
    },
    {
      "cell_type": "code",
      "metadata": {
        "id": "xcv6pqWHx5-j"
      },
      "source": [
        "def rand_funct(bott,ceil,count):\n",
        "  x = norm.rvs(size=count)\n",
        "  \n",
        "  randoms  = bott-1 + (ceil-a)*x\n",
        "  \n",
        "  return randoms"
      ],
      "execution_count": 13,
      "outputs": []
    },
    {
      "cell_type": "code",
      "metadata": {
        "id": "fcLICUPK18Z-",
        "colab": {
          "base_uri": "https://localhost:8080/",
          "height": 320
        },
        "outputId": "b7f965fe-186b-4ddc-e911-6b1d2bf06f7e"
      },
      "source": [
        "fig, [ax1,ax2] = plt.subplots(1,2, figsize=(10,5))\n",
        "sns.histplot(np.random.normal(10, 1, 1000),bins=100,ax=ax1)\n",
        "sns.histplot(np.random.normal(10, 50, 1000),bins=100,ax=ax2)\n",
        "plt.show();"
      ],
      "execution_count": 36,
      "outputs": [
        {
          "output_type": "display_data",
          "data": {
            "image/png": "[encoded data removed]",
            "text/plain": [
              "<Figure size 720x360 with 2 Axes>"
            ]
          },
          "metadata": {
            "needs_background": "light"
          }
        }
      ]
    },
    {
      "cell_type": "markdown",
      "metadata": {
        "id": "b6I7JbPFJKMV"
      },
      "source": [
        "How are the two distributions different?"
      ]
    },
    {
      "cell_type": "code",
      "metadata": {
        "id": "DD-jTFOEJKMX"
      },
      "source": [
        "# your answer below\n",
        "'''the second plot has a bigger distribution, the variance is bigger and this impact\n",
        "the range of the numbers'''"
      ],
      "execution_count": 16,
      "outputs": []
    },
    {
      "cell_type": "markdown",
      "metadata": {
        "id": "QQoSnkF7JKMY"
      },
      "source": [
        "## Normal Distribution of Real Data\n",
        "\n",
        "In this challenge we are going to take a look the real data. We will use vehicles.csv file for this exercise"
      ]
    },
    {
      "cell_type": "markdown",
      "metadata": {
        "id": "7yaaJ6iIJKMa"
      },
      "source": [
        "First import vehicles.csv.\n",
        "Then plot the histograms for the following variables:\n",
        "\n",
        "1. Fuel Barrels/Year"
      ]
    },
    {
      "cell_type": "code",
      "metadata": {
        "id": "-Yd8VubbJKMb"
      },
      "source": [
        "# your code here\n",
        "data = pd.read_csv('/content/drive/MyDrive/Iron Hack/Code Along Docs/vehicles/vehicles.csv')"
      ],
      "execution_count": 19,
      "outputs": []
    },
    {
      "cell_type": "code",
      "metadata": {
        "colab": {
          "base_uri": "https://localhost:8080/",
          "height": 296
        },
        "id": "dVzUxt3yzpzF",
        "outputId": "a01993f9-93e5-47aa-fcbe-8c3ca234854c"
      },
      "source": [
        "sns.histplot(data['Fuel Cost/Year'],bins=25)"
      ],
      "execution_count": 20,
      "outputs": [
        {
          "output_type": "execute_result",
          "data": {
            "text/plain": [
              "<matplotlib.axes._subplots.AxesSubplot at 0x7f04e9b0ba90>"
            ]
          },
          "metadata": {},
          "execution_count": 20
        },
        {
          "output_type": "display_data",
          "data": {
            "image/png": "[encoded data removed]",
            "text/plain": [
              "<Figure size 432x288 with 1 Axes>"
            ]
          },
          "metadata": {
            "needs_background": "light"
          }
        }
      ]
    },
    {
      "cell_type": "markdown",
      "metadata": {
        "id": "drRSzzXQJKMd"
      },
      "source": [
        "2. CO2 Emission Grams/Mile "
      ]
    },
    {
      "cell_type": "code",
      "metadata": {
        "colab": {
          "base_uri": "https://localhost:8080/",
          "height": 296
        },
        "id": "9tRzjWvAJKMe",
        "outputId": "c8e4ecfe-5928-4e25-82a2-c467a93fa623"
      },
      "source": [
        "# your code here\n",
        "sns.histplot(data['CO2 Emission Grams/Mile'],bins=25)"
      ],
      "execution_count": 37,
      "outputs": [
        {
          "output_type": "execute_result",
          "data": {
            "text/plain": [
              "<matplotlib.axes._subplots.AxesSubplot at 0x7f04e864bc90>"
            ]
          },
          "metadata": {},
          "execution_count": 37
        },
        {
          "output_type": "display_data",
          "data": {
            "image/png": "[encoded data removed]",
            "text/plain": [
              "<Figure size 432x288 with 1 Axes>"
            ]
          },
          "metadata": {
            "needs_background": "light"
          }
        }
      ]
    },
    {
      "cell_type": "markdown",
      "metadata": {
        "id": "HC7zMiT1JKMf"
      },
      "source": [
        "3. Combined MPG"
      ]
    },
    {
      "cell_type": "code",
      "metadata": {
        "colab": {
          "base_uri": "https://localhost:8080/",
          "height": 296
        },
        "id": "5likcQuFJKMg",
        "outputId": "05164f4a-3ac8-4d6e-e7a2-c1719ffa1a70"
      },
      "source": [
        "# your code here\n",
        "sns.histplot(data['Combined MPG'],bins=25)"
      ],
      "execution_count": 22,
      "outputs": [
        {
          "output_type": "execute_result",
          "data": {
            "text/plain": [
              "<matplotlib.axes._subplots.AxesSubplot at 0x7f04e9a4f050>"
            ]
          },
          "metadata": {},
          "execution_count": 22
        },
        {
          "output_type": "display_data",
          "data": {
            "image/png": "[encoded data removed]",
            "text/plain": [
              "<Figure size 432x288 with 1 Axes>"
            ]
          },
          "metadata": {
            "needs_background": "light"
          }
        }
      ]
    },
    {
      "cell_type": "markdown",
      "metadata": {
        "id": "OzT3PzdSJKMg"
      },
      "source": [
        "Which one(s) of the variables are nearly normally distributed? How do you know?"
      ]
    },
    {
      "cell_type": "code",
      "metadata": {
        "id": "AZWD7HESJKMi"
      },
      "source": [
        "# your answer here\n",
        "'''It seems like the first two have a more normal distribution, but it is not\n",
        "completely normal'''"
      ],
      "execution_count": 23,
      "outputs": []
    },
    {
      "cell_type": "markdown",
      "metadata": {
        "id": "TUeR67vZJKMj"
      },
      "source": [
        "## Exponential Distribution"
      ]
    },
    {
      "cell_type": "markdown",
      "metadata": {
        "id": "I5uS1TJIJKMk"
      },
      "source": [
        "1. Using `numpy.random.exponential`, create a function that returns a list of numbers exponentially distributed with the mean of 10. \n",
        "\n",
        "1. Use the function to generate two number sequences with the size of 1 and 100.\n",
        "\n",
        "1. Plot the distributions as histograms with the nubmer of bins as 100.\n",
        "\n",
        "Your output should look like below:\n",
        "\n",
        "![exponential distribution](ed.png)"
      ]
    },
    {
      "cell_type": "code",
      "metadata": {
        "id": "ofcYmxq30U_F"
      },
      "source": [
        "import numpy as np"
      ],
      "execution_count": 24,
      "outputs": []
    },
    {
      "cell_type": "code",
      "metadata": {
        "colab": {
          "base_uri": "https://localhost:8080/",
          "height": 337
        },
        "id": "a10zXhIHJKMq",
        "outputId": "8bb2904f-6045-4d45-8d0b-349b549a6500"
      },
      "source": [
        "# your code here\n",
        "def exp_dist (sc,sz):\n",
        "  return sc * np.random.exponential(size=sz)\n",
        "fig, [ax1,ax2] = plt.subplots(1,2, figsize=(10,5))\n",
        "sns.histplot(exp_dist(1,1000),bins=100,ax=ax1)\n",
        "sns.histplot(exp_dist(10,1000),bins=100,ax=ax2)\n",
        "plt.show;"
      ],
      "execution_count": 25,
      "outputs": [
        {
          "output_type": "execute_result",
          "data": {
            "text/plain": [
              "<function matplotlib.pyplot.show>"
            ]
          },
          "metadata": {},
          "execution_count": 25
        },
        {
          "output_type": "display_data",
          "data": {
            "image/png": "[encoded data removed]",
            "text/plain": [
              "<Figure size 720x360 with 2 Axes>"
            ]
          },
          "metadata": {
            "needs_background": "light"
          }
        }
      ]
    },
    {
      "cell_type": "markdown",
      "metadata": {
        "id": "f8BzmBE1JKMq"
      },
      "source": [
        "How are the two distributions different?"
      ]
    },
    {
      "cell_type": "code",
      "metadata": {
        "id": "AqYMmJaVJKMr"
      },
      "source": [
        "# your answer here\n",
        "'''\n",
        "They differ in the scale of values but the distribution is almost the same\n",
        "'''"
      ],
      "execution_count": 26,
      "outputs": []
    },
    {
      "cell_type": "markdown",
      "metadata": {
        "id": "6mtfXIbgJKMr"
      },
      "source": [
        "## Exponential Distribution of Real Data\n",
        "\n",
        "Suppose that the amount of time one spends in a bank is exponentially distributed with mean as 10 minutes (i.e. λ = 1/10). What is the probability that a customer will spend less than fifteen minutes in the bank? \n",
        "\n",
        "Write a code in python to solve this problem"
      ]
    },
    {
      "cell_type": "code",
      "metadata": {
        "id": "5xzSmzRGJKMt",
        "colab": {
          "base_uri": "https://localhost:8080/"
        },
        "outputId": "d9730296-59ff-43f8-b263-d59e1dd896ce"
      },
      "source": [
        "# your answer here\n",
        "# Hint: This is same as saying P(x<15)\n",
        "p =1-np.exp(-1/10*15)\n",
        "p"
      ],
      "execution_count": 40,
      "outputs": [
        {
          "output_type": "execute_result",
          "data": {
            "text/plain": [
              "0.7768698398515702"
            ]
          },
          "metadata": {},
          "execution_count": 40
        }
      ]
    },
    {
      "cell_type": "markdown",
      "metadata": {
        "id": "UmxEccskJKMu"
      },
      "source": [
        "What is the probability that the customer will spend more than 15 minutes"
      ]
    },
    {
      "cell_type": "code",
      "metadata": {
        "colab": {
          "base_uri": "https://localhost:8080/"
        },
        "id": "I98ePzNnJKMv",
        "outputId": "c768cb98-205a-4cb4-a3ac-a68470f04f23"
      },
      "source": [
        "a = np.exp(-1/10*15)\n",
        "a"
      ],
      "execution_count": 38,
      "outputs": [
        {
          "output_type": "execute_result",
          "data": {
            "text/plain": [
              "0.22313016014842982"
            ]
          },
          "metadata": {},
          "execution_count": 38
        }
      ]
    }
  ]
}